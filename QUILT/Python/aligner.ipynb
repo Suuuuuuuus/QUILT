{
 "cells": [
  {
   "cell_type": "code",
   "execution_count": 1,
   "metadata": {},
   "outputs": [
    {
     "data": {
      "text/plain": [
       "<Figure size 100x100 with 0 Axes>"
      ]
     },
     "metadata": {},
     "output_type": "display_data"
    }
   ],
   "source": [
    "import io\n",
    "import os\n",
    "import re\n",
    "import sys\n",
    "import csv\n",
    "import gzip\n",
    "import time\n",
    "import json\n",
    "import math\n",
    "import pickle\n",
    "import secrets\n",
    "import multiprocessing\n",
    "import subprocess\n",
    "import resource\n",
    "import pandas as pd\n",
    "# import sqlite3\n",
    "# from PIL import Image\n",
    "import matplotlib.pyplot as plt\n",
    "# from plotnine import *\n",
    "import numpy as np\n",
    "import scipy as sp\n",
    "import statsmodels.api as sm\n",
    "import random\n",
    "import itertools\n",
    "import collections\n",
    "import pyreadr\n",
    "import pywfa\n",
    "from IPython.display import display_html\n",
    "\n",
    "sys.path.append('/well/band/users/rbx225/software/lcwgsus/')\n",
    "import lcwgsus\n",
    "from lcwgsus.variables import *\n",
    "from warnings import simplefilter\n",
    "from hla_phase import *\n",
    "from hla_align_functions import *\n",
    "from hla_align import *\n",
    "\n",
    "simplefilter(action=\"ignore\", category=pd.errors.PerformanceWarning)\n",
    "\n",
    "pd.options.mode.chained_assignment = None\n",
    "\n",
    "# Genuine logics changed from the main script were marked by string **X** in the original R files.\n",
    "# Simplicity changes were marked by string **Y**"
   ]
  },
  {
   "cell_type": "code",
   "execution_count": 51,
   "metadata": {},
   "outputs": [],
   "source": [
    "gene = 'DRB1'\n",
    "hla_gene_information = pd.read_csv('/well/band/users/rbx225/software/QUILT_sus/hla_ancillary_files/hla_gene_information.tsv', sep = ' ')\n",
    "bam = \"/well/band/users/rbx225/GAMCC/data/bams/IDT0482.bam\"\n",
    "\n",
    "# bam = \"/well/band/users/rbx225/GAMCC/data/references/tmp/NA12878.mhc.2.0X.bam\"\n",
    "\n",
    "# db = process_db_genfile(gene, ipd_gen_file_dir, hla_gene_information)\n",
    "# db.to_csv(f'/well/band/users/rbx225/recyclable_files/hla_reference_files/v3570_aligners/{gene}.ssv', sep = ' ', index = False, header = True)\n",
    "\n",
    "db = pd.read_csv(f'/well/band/users/rbx225/recyclable_files/hla_reference_files/v3570_aligners/{gene}.ssv', sep = ' ')\n",
    "\n",
    "r1, r2, mate, pair = hla_aligner(gene, bam, db, hla_gene_information)\n",
    "\n",
    "r1.to_csv(outdir + '/reads1.csv', header = False, index = False)\n",
    "r2.to_csv(outdir + '/reads2.csv', header = False, index = False)\n",
    "\n",
    "pd.set_option('display.float_format', '{:.6e}'.format)\n",
    "mate.to_csv(outdir + '/mate_likelihood_matrix.ssv', index=True, header=True, sep = ' ')\n",
    "pair.to_csv(outdir + '/pair_likelihood_matrix.ssv', index=True, header=True, sep = ' ')"
   ]
  }
 ],
 "metadata": {
  "kernelspec": {
   "display_name": "Python 3 (ipykernel)",
   "language": "python",
   "name": "python3"
  },
  "language_info": {
   "codemirror_mode": {
    "name": "ipython",
    "version": 3
   },
   "file_extension": ".py",
   "mimetype": "text/x-python",
   "name": "python",
   "nbconvert_exporter": "python",
   "pygments_lexer": "ipython3",
   "version": "3.8.15"
  },
  "toc": {
   "base_numbering": 1,
   "nav_menu": {},
   "number_sections": true,
   "sideBar": true,
   "skip_h1_title": false,
   "title_cell": "Table of Contents",
   "title_sidebar": "Contents",
   "toc_cell": false,
   "toc_position": {},
   "toc_section_display": true,
   "toc_window_display": false
  },
  "varInspector": {
   "cols": {
    "lenName": 16,
    "lenType": 16,
    "lenVar": 40
   },
   "kernels_config": {
    "python": {
     "delete_cmd_postfix": "",
     "delete_cmd_prefix": "del ",
     "library": "var_list.py",
     "varRefreshCmd": "print(var_dic_list())"
    },
    "r": {
     "delete_cmd_postfix": ") ",
     "delete_cmd_prefix": "rm(",
     "library": "var_list.r",
     "varRefreshCmd": "cat(var_dic_list()) "
    }
   },
   "types_to_exclude": [
    "module",
    "function",
    "builtin_function_or_method",
    "instance",
    "_Feature"
   ],
   "window_display": false
  }
 },
 "nbformat": 4,
 "nbformat_minor": 2
}
