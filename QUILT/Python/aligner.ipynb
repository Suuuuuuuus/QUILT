{
 "cells": [
  {
   "cell_type": "code",
   "execution_count": 1,
   "metadata": {},
   "outputs": [
    {
     "data": {
      "text/plain": [
       "<Figure size 100x100 with 0 Axes>"
      ]
     },
     "metadata": {},
     "output_type": "display_data"
    }
   ],
   "source": [
    "import io\n",
    "import os\n",
    "import re\n",
    "import sys\n",
    "import csv\n",
    "import gzip\n",
    "import time\n",
    "import json\n",
    "import pickle\n",
    "import secrets\n",
    "import multiprocessing\n",
    "import subprocess\n",
    "import resource\n",
    "import pandas as pd\n",
    "# import sqlite3\n",
    "# from PIL import Image\n",
    "import matplotlib.pyplot as plt\n",
    "# from plotnine import *\n",
    "import numpy as np\n",
    "import scipy as sp\n",
    "import statsmodels.api as sm\n",
    "import random\n",
    "# from collections import Counter\n",
    "# import seaborn as sns\n",
    "# import matplotlib.colors as mcolors\n",
    "# from matplotlib.ticker import FuncFormatter\n",
    "import itertools\n",
    "import collections\n",
    "import pyreadr\n",
    "import pywfa\n",
    "from IPython.display import display_html\n",
    "# import patchworklib as pw\n",
    "sys.path.append('/well/band/users/rbx225/software/lcwgsus/')\n",
    "import lcwgsus\n",
    "from lcwgsus.variables import *\n",
    "from warnings import simplefilter\n",
    "from hla_phase import *\n",
    "from hla_align import *\n",
    "\n",
    "simplefilter(action=\"ignore\", category=pd.errors.PerformanceWarning)\n",
    "\n",
    "pd.options.mode.chained_assignment = None\n",
    "\n",
    "# Genuine logics changed from the main script were marked by string **X** in the original R files.\n",
    "# Simplicity changes were marked by string **Y**"
   ]
  },
  {
   "cell_type": "code",
   "execution_count": 2,
   "metadata": {},
   "outputs": [],
   "source": [
    "gene = 'DRB1'\n",
    "ipd_gen_file_dir = '/well/band/users/rbx225/recyclable_files/hla_reference_files/alignments/'\n",
    "hla_gene_information = pd.read_csv('/well/band/users/rbx225/software/QUILT_sus/hla_ancillary_files/hla_gene_information.tsv', sep = ' ')\n",
    "samples_to_remove = []\n",
    "\n",
    "gamcc_hla = lcwgsus.read_hla_direct_sequencing(retain = 'fv', unique_two_field = False)\n",
    "gamcc_hla = gamcc_hla[['SampleID', 'Locus', 'Two field1', 'Two field2']].reset_index(drop = True)\n",
    "\n",
    "colnames = ['Sample ID'] + [label for g in HLA_GENES for label in [f'HLA-{g} 1', f'HLA-{g} 2']]\n",
    "hlatypes = pd.DataFrame(columns = colnames)\n",
    "for s in gamcc_hla['SampleID'].unique():\n",
    "    tmp = gamcc_hla[gamcc_hla['SampleID'] == s]\n",
    "    row = [s] + tmp[['Two field1', 'Two field2']].values.ravel().tolist()\n",
    "    hlatypes.loc[len(hlatypes)] = row\n",
    "\n",
    "reference_allele_file = '/well/band/users/rbx225/recyclable_files/hla/b38_reference_alleles.tsv'\n",
    "reference_allele_ary = np.array(lcwgsus.read_tsv_as_lst(reference_allele_file))\n",
    "phased_vcf = \"/well/band/users/rbx225/GAMCC/results/imputation/vcfs/malariaGen_v1_b38/quilt.chr6.vcf.gz\"\n",
    "bam = \"/well/band/users/rbx225/GAMCC/data/bams/IDT0482.bam\"\n",
    "\n",
    "# db = process_db_genfile(gene, ipd_gen_file_dir, hla_gene_information)\n",
    "# db.to_csv(f'/well/band/users/rbx225/recyclable_files/hla_reference_files/v3570_aligners/{gene}.ssv', sep = ' ', index = False, header = True)"
   ]
  },
  {
   "cell_type": "code",
   "execution_count": 3,
   "metadata": {},
   "outputs": [],
   "source": [
    "db = pd.read_csv(f'/well/band/users/rbx225/recyclable_files/hla_reference_files/v3570_aligners/{gene}.ssv', sep = ' ')\n",
    "\n",
    "regstart = hla_gene_information[hla_gene_information['Name'] == f'HLA-{gene}']['Start'].values[0]\n",
    "regend = hla_gene_information[hla_gene_information['Name'] == f'HLA-{gene}']['End'].values[0]\n",
    "strand = hla_gene_information[hla_gene_information['Name'] == f'HLA-{gene}']['Strand'].values[0]\n",
    "\n",
    "reads_apart_max = 1000\n",
    "\n",
    "command = f\"samtools view {bam} chr6:{regstart-reads_apart_max}-{regend+reads_apart_max}\"\n",
    "reads = subprocess.run(command, shell = True, capture_output = True, text = True).stdout[:-1].split('\\n')\n",
    "\n",
    "reads = [i.split('\\t') for i in reads if '##' not in i]\n",
    "reads = pd.DataFrame(reads).iloc[:,:11]\n",
    "reads.columns = [\n",
    "    \"ID\", \"flag\", \"chr\", \"pos\", \"map_quality\", \"CIGAR\", \"chr_alt\", \"pos_alt\", \"insert_size\", \"sequence\", \"base_quality\"\n",
    "]\n",
    "\n",
    "reads['pos'] = reads['pos'].astype(int)\n",
    "reads['pos_alt'] = reads['pos_alt'].astype(int)\n",
    "\n",
    "reads = reads[\n",
    "    (reads['chr'] == 'chr6') &\n",
    "    (reads['chr_alt'].isin(['chr6', '='])) &\n",
    "    (reads['pos_alt'] + reads['sequence'].str.len() >= np.ones(len(reads))*(regstart - reads_apart_max)) & \n",
    "    (reads['pos_alt'] <= np.ones(len(reads))*(regend + reads_apart_max))\n",
    "]\n",
    "\n",
    "id_counts = reads['ID'].value_counts()\n",
    "valid_ids_ary = id_counts[id_counts == 2].index.tolist()\n",
    "reads = reads[reads['ID'].isin(valid_ids_ary)].sort_values(by = 'ID').reset_index(drop = True)\n",
    "\n",
    "reads['rev_seq'] = reads['sequence'].apply(reverse_complement)\n",
    "reads['rev_bq'] = reads['base_quality'].apply(lambda bq: bq[::-1])\n",
    "\n",
    "scores_mat = np.zeros((reads.shape[0], db.shape[1]))\n",
    "rev_scores_mat = np.zeros((reads.shape[0], db.shape[1]))\n",
    "for j, a in enumerate(db.columns[:5]):\n",
    "    refseq = (''.join(db[a].tolist())).replace('.', '')\n",
    "    ref = pywfa.WavefrontAligner(refseq)\n",
    "    for i, (seq, bq) in enumerate(zip(reads['sequence'], reads['base_quality'])):\n",
    "        result = ref(seq)\n",
    "        refseq_aligned = refseq[result.pattern_start:result.pattern_end]\n",
    "        cigars = result.cigartuples\n",
    "        score = result.score\n",
    "        cigars, score = adjust_align_score(cigars, score)\n",
    "        likelihood_per_read_per_allele = calculate_score_per_alignment(seq, refseq_aligned, bq)\n",
    "        scores_mat[i, j] = likelihood_per_read_per_allele\n",
    "    for i, (seq, bq) in enumerate(zip(reads['rev_seq'], reads['rev_bq'])):\n",
    "        result = ref(seq)\n",
    "        refseq_aligned = refseq[result.pattern_start:result.pattern_end]\n",
    "        cigars = result.cigartuples\n",
    "        score = result.score\n",
    "        cigars, score = adjust_align_score(cigars, score)\n",
    "        likelihood_per_read_per_allele = calculate_score_per_alignment(seq, refseq_aligned, bq)\n",
    "        rev_scores_mat[i, j] = likelihood_per_read_per_allele\n",
    "\n",
    "scores_mat = np.maximum(scores_mat, rev_scores_mat)\n",
    "        \n",
    "temperature = 100\n",
    "likelihood_mat = np.exp(scores_mat/temperature)/np.sum(np.exp(scores_mat/temperature), axis = 1, keepdims = True)\n",
    "likelihood_mat"
   ]
  },
  {
   "cell_type": "code",
   "execution_count": null,
   "metadata": {},
   "outputs": [],
   "source": []
  },
  {
   "cell_type": "code",
   "execution_count": null,
   "metadata": {},
   "outputs": [],
   "source": []
  }
 ],
 "metadata": {
  "kernelspec": {
   "display_name": "Python 3 (ipykernel)",
   "language": "python",
   "name": "python3"
  },
  "language_info": {
   "codemirror_mode": {
    "name": "ipython",
    "version": 3
   },
   "file_extension": ".py",
   "mimetype": "text/x-python",
   "name": "python",
   "nbconvert_exporter": "python",
   "pygments_lexer": "ipython3",
   "version": "3.8.15"
  },
  "toc": {
   "base_numbering": 1,
   "nav_menu": {},
   "number_sections": true,
   "sideBar": true,
   "skip_h1_title": false,
   "title_cell": "Table of Contents",
   "title_sidebar": "Contents",
   "toc_cell": false,
   "toc_position": {},
   "toc_section_display": true,
   "toc_window_display": false
  },
  "varInspector": {
   "cols": {
    "lenName": 16,
    "lenType": 16,
    "lenVar": 40
   },
   "kernels_config": {
    "python": {
     "delete_cmd_postfix": "",
     "delete_cmd_prefix": "del ",
     "library": "var_list.py",
     "varRefreshCmd": "print(var_dic_list())"
    },
    "r": {
     "delete_cmd_postfix": ") ",
     "delete_cmd_prefix": "rm(",
     "library": "var_list.r",
     "varRefreshCmd": "cat(var_dic_list()) "
    }
   },
   "types_to_exclude": [
    "module",
    "function",
    "builtin_function_or_method",
    "instance",
    "_Feature"
   ],
   "window_display": false
  }
 },
 "nbformat": 4,
 "nbformat_minor": 2
}
