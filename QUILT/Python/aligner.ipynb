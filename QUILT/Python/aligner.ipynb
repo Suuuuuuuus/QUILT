{
 "cells": [
  {
   "cell_type": "code",
   "execution_count": 2,
   "metadata": {},
   "outputs": [],
   "source": [
    "import io\n",
    "import os\n",
    "import re\n",
    "import sys\n",
    "import csv\n",
    "import gzip\n",
    "import time\n",
    "import json\n",
    "import math\n",
    "import pickle\n",
    "import secrets\n",
    "import multiprocessing\n",
    "import subprocess\n",
    "import resource\n",
    "import pandas as pd\n",
    "# import sqlite3\n",
    "# from PIL import Image\n",
    "import matplotlib.pyplot as plt\n",
    "# from plotnine import *\n",
    "import numpy as np\n",
    "import scipy as sp\n",
    "import statsmodels.api as sm\n",
    "import random\n",
    "import itertools\n",
    "import collections\n",
    "import pyreadr\n",
    "import pywfa\n",
    "from IPython.display import display_html\n",
    "\n",
    "import multiprocessing as mp\n",
    "from functools import partial\n",
    "\n",
    "sys.path.append('/well/band/users/rbx225/software/lcwgsus/')\n",
    "import lcwgsus\n",
    "from lcwgsus.variables import *\n",
    "from warnings import simplefilter\n",
    "from hla_phase import *\n",
    "from hla_align_functions import *\n",
    "from hla_align import *\n",
    "\n",
    "simplefilter(action=\"ignore\", category=pd.errors.PerformanceWarning)\n",
    "\n",
    "pd.options.mode.chained_assignment = None"
   ]
  },
  {
   "cell_type": "code",
   "execution_count": 24,
   "metadata": {},
   "outputs": [
    {
     "ename": "KeyboardInterrupt",
     "evalue": "",
     "output_type": "error",
     "traceback": [
      "\u001b[0;31m---------------------------------------------------------------------------\u001b[0m",
      "\u001b[0;31mKeyboardInterrupt\u001b[0m                         Traceback (most recent call last)",
      "Cell \u001b[0;32mIn[24], line 27\u001b[0m\n\u001b[1;32m     24\u001b[0m start \u001b[38;5;241m=\u001b[39m time\u001b[38;5;241m.\u001b[39mtime()\n\u001b[1;32m     25\u001b[0m \u001b[38;5;66;03m# likemat1 = multi_calculate_loglikelihood_per_allele(reads1, db, temperature = 1)\u001b[39;00m\n\u001b[1;32m     26\u001b[0m \u001b[38;5;66;03m# likemat1 = calculate_loglikelihood(reads1, db, temperature = 1)\u001b[39;00m\n\u001b[0;32m---> 27\u001b[0m likemat1 \u001b[38;5;241m=\u001b[39m \u001b[43mcalculate_loglikelihood_msa\u001b[49m\u001b[43m(\u001b[49m\u001b[43mreads1\u001b[49m\u001b[43m,\u001b[49m\u001b[43m \u001b[49m\u001b[43mdb\u001b[49m\u001b[43m)\u001b[49m\n\u001b[1;32m     28\u001b[0m end \u001b[38;5;241m=\u001b[39m time\u001b[38;5;241m.\u001b[39mtime()\n\u001b[1;32m     29\u001b[0m \u001b[38;5;28mprint\u001b[39m(end \u001b[38;5;241m-\u001b[39m start)\n",
      "Cell \u001b[0;32mIn[21], line 15\u001b[0m, in \u001b[0;36mcalculate_loglikelihood_msa\u001b[0;34m(reads, db)\u001b[0m\n\u001b[1;32m     13\u001b[0m minus_positions \u001b[38;5;241m=\u001b[39m {}\n\u001b[1;32m     14\u001b[0m \u001b[38;5;28;01mfor\u001b[39;00m seq \u001b[38;5;129;01min\u001b[39;00m reads[\u001b[38;5;124m'\u001b[39m\u001b[38;5;124msequence\u001b[39m\u001b[38;5;124m'\u001b[39m]:\n\u001b[0;32m---> 15\u001b[0m     result \u001b[38;5;241m=\u001b[39m \u001b[43mref\u001b[49m\u001b[43m(\u001b[49m\u001b[43mseq\u001b[49m\u001b[43m)\u001b[49m\n\u001b[1;32m     16\u001b[0m     plus_positions[g] \u001b[38;5;241m=\u001b[39m [result\u001b[38;5;241m.\u001b[39mpattern_start, result\u001b[38;5;241m.\u001b[39mpattern_end, result\u001b[38;5;241m.\u001b[39mtext_start, result\u001b[38;5;241m.\u001b[39mtext_end]\n\u001b[1;32m     17\u001b[0m \u001b[38;5;28;01mfor\u001b[39;00m seq \u001b[38;5;129;01min\u001b[39;00m reads[\u001b[38;5;124m'\u001b[39m\u001b[38;5;124mrev_seq\u001b[39m\u001b[38;5;124m'\u001b[39m]:\n",
      "\u001b[0;31mKeyboardInterrupt\u001b[0m: "
     ]
    }
   ],
   "source": [
    "# gene = 'DRB1'\n",
    "# hla_gene_information = pd.read_csv('/well/band/users/rbx225/software/QUILT_sus/hla_ancillary_files/hla_gene_information.tsv', sep = ' ')\n",
    "# bam = \"/well/band/users/rbx225/GAMCC/data/bams/IDT0482.bam\"\n",
    "# hla_gene_information = pd.read_csv('/well/band/users/rbx225/software/QUILT_sus/hla_ancillary_files/hla_gene_information.tsv', sep = ' ')\n",
    "# db = pd.read_csv(f'/well/band/users/rbx225/recyclable_files/hla_reference_files/v3570_aligners/{gene}.ssv', sep = ' ')\n",
    "\n",
    "# reads_apart_max=1000\n",
    "# temperature=100\n",
    "# n_mismatches=5\n",
    "# assumed_bq=0.001\n",
    "\n",
    "# reads1 = get_chr6_reads(gene, bam, hla_gene_information, reads_apart_max)\n",
    "# reads2 = get_hla_reads(gene, bam, reads_apart_max)\n",
    "\n",
    "# if reads1.empty:\n",
    "#     reads1 = reads2.iloc[:2, :] if not reads2.empty else pd.DataFrame()\n",
    "# elif reads2.empty:\n",
    "#     reads2 = reads1.iloc[:2, :]\n",
    "# else:\n",
    "#     pass\n",
    "\n",
    "# rl = reads1['sequence'].str.len().mode().values[0]\n",
    "\n",
    "start = time.time()\n",
    "# likemat1 = multi_calculate_loglikelihood_per_allele(reads1, db, temperature = 1)\n",
    "# likemat1 = calculate_loglikelihood(reads1, db, temperature = 1)\n",
    "likemat1 = calculate_loglikelihood_msa(reads1, db)\n",
    "end = time.time()\n",
    "print(end - start)\n",
    "\n",
    "# likemat2 = calculate_loglikelihood1(reads2, db)\n",
    "# min_valid_prob = np.log(math.comb(rl, n_mismatches)) + n_mismatches*np.log(assumed_bq) + (rl - n_mismatches)*np.log(1 - assumed_bq)\n",
    "\n",
    "# valid_indices1 = np.any(likemat1 >= min_valid_prob, axis=1)\n",
    "# valid_indices2 = np.any(likemat2 >= min_valid_prob, axis=1)\n",
    "# likemat1, reads1 = likemat1[valid_indices1], reads1[valid_indices1]\n",
    "# likemat2, reads2 = likemat2[valid_indices2], reads2[valid_indices2]\n",
    "\n",
    "# likemat_all = np.vstack((likemat1, likemat2))\n",
    "\n",
    "# id1, id2 = reads1.iloc[:, 0].to_numpy(), reads2.iloc[:, 0].to_numpy()\n",
    "\n",
    "# readind = (reads1.iloc[:, 1].astype(int) // 64) % 4\n",
    "# readind2 = (reads2.iloc[:, 1].astype(int) // 64) % 4\n",
    "# mate_indicator = np.concatenate((readind, readind2))\n",
    "\n",
    "# ids_all = np.concatenate((id1, id2))\n",
    "# unique_ids = np.unique(ids_all)\n",
    "# likemat_mate = np.zeros((len(unique_ids), likemat_all.shape[1]))\n",
    "\n",
    "# for i, uid in enumerate(unique_ids):\n",
    "#     t1 = likemat_all[ids_all == uid, :]\n",
    "#     t2 = mate_indicator[ids_all == uid]\n",
    "#     if len(t2) > 0:\n",
    "#         likemat_mate[i, :] = np.sum(t1[t2 > 0], axis=0)\n",
    "\n",
    "# valid_mask = likemat_mate.max(axis=1) >= min_valid_prob\n",
    "# likemat_mate = likemat_mate[valid_mask]\n",
    "# likemat_norm = 0.5 * np.exp(likemat_mate - likemat_mate.max(axis=1, keepdims=True)) + 1e-100\n",
    "\n",
    "# likemat_paired = likemat_norm.T @ likemat_norm\n",
    "# likemat_paired = pd.DataFrame(likemat_paired, index=db.columns, columns=db.columns)\n",
    "\n",
    "# likemat_mate = pd.DataFrame(likemat_mate, index = unique_ids[valid_mask], columns=db.columns)"
   ]
  },
  {
   "cell_type": "code",
   "execution_count": 51,
   "metadata": {},
   "outputs": [],
   "source": [
    "gene = 'DRB1'\n",
    "hla_gene_information = pd.read_csv('/well/band/users/rbx225/software/QUILT_sus/hla_ancillary_files/hla_gene_information.tsv', sep = ' ')\n",
    "bam = \"/well/band/users/rbx225/GAMCC/data/bams/IDT0482.bam\"\n",
    "\n",
    "# db = process_db_genfile(gene, ipd_gen_file_dir, hla_gene_information)\n",
    "# db.to_csv(f'/well/band/users/rbx225/recyclable_files/hla_reference_files/v3570_aligners/{gene}.ssv', sep = ' ', index = False, header = True)\n",
    "\n",
    "db = pd.read_csv(f'/well/band/users/rbx225/recyclable_files/hla_reference_files/v3570_aligners/{gene}.ssv', sep = ' ')\n",
    "\n",
    "r1, r2, mate, pair = hla_aligner(gene, bam, db, hla_gene_information)\n",
    "\n",
    "r1.to_csv(outdir + '/reads1.csv', header = False, index = False)\n",
    "r2.to_csv(outdir + '/reads2.csv', header = False, index = False)\n",
    "\n",
    "pd.set_option('display.float_format', '{:.6e}'.format)\n",
    "mate.to_csv(outdir + '/mate_likelihood_matrix.ssv', index=True, header=True, sep = ' ')\n",
    "pair.to_csv(outdir + '/pair_likelihood_matrix.ssv', index=True, header=True, sep = ' ')"
   ]
  }
 ],
 "metadata": {
  "kernelspec": {
   "display_name": "Python 3 (ipykernel)",
   "language": "python",
   "name": "python3"
  },
  "language_info": {
   "codemirror_mode": {
    "name": "ipython",
    "version": 3
   },
   "file_extension": ".py",
   "mimetype": "text/x-python",
   "name": "python",
   "nbconvert_exporter": "python",
   "pygments_lexer": "ipython3",
   "version": "3.8.15"
  },
  "toc": {
   "base_numbering": 1,
   "nav_menu": {},
   "number_sections": true,
   "sideBar": true,
   "skip_h1_title": false,
   "title_cell": "Table of Contents",
   "title_sidebar": "Contents",
   "toc_cell": false,
   "toc_position": {},
   "toc_section_display": true,
   "toc_window_display": false
  },
  "varInspector": {
   "cols": {
    "lenName": 16,
    "lenType": 16,
    "lenVar": 40
   },
   "kernels_config": {
    "python": {
     "delete_cmd_postfix": "",
     "delete_cmd_prefix": "del ",
     "library": "var_list.py",
     "varRefreshCmd": "print(var_dic_list())"
    },
    "r": {
     "delete_cmd_postfix": ") ",
     "delete_cmd_prefix": "rm(",
     "library": "var_list.r",
     "varRefreshCmd": "cat(var_dic_list()) "
    }
   },
   "types_to_exclude": [
    "module",
    "function",
    "builtin_function_or_method",
    "instance",
    "_Feature"
   ],
   "window_display": false
  }
 },
 "nbformat": 4,
 "nbformat_minor": 2
}
